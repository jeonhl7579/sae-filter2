{
 "cells": [
  {
   "cell_type": "code",
   "execution_count": 2,
   "id": "e7cf84a5",
   "metadata": {},
   "outputs": [],
   "source": [
    "import pandas as pd\n",
    "from tqdm import tqdm"
   ]
  },
  {
   "cell_type": "code",
   "execution_count": 3,
   "id": "9c9502b2",
   "metadata": {},
   "outputs": [],
   "source": [
    "data=pd.read_excel('comment_lists1-300.xlsx')"
   ]
  },
  {
   "cell_type": "code",
   "execution_count": 4,
   "id": "c1526e5f",
   "metadata": {},
   "outputs": [
    {
     "data": {
      "text/html": [
       "<div>\n",
       "<style scoped>\n",
       "    .dataframe tbody tr th:only-of-type {\n",
       "        vertical-align: middle;\n",
       "    }\n",
       "\n",
       "    .dataframe tbody tr th {\n",
       "        vertical-align: top;\n",
       "    }\n",
       "\n",
       "    .dataframe thead th {\n",
       "        text-align: right;\n",
       "    }\n",
       "</style>\n",
       "<table border=\"1\" class=\"dataframe\">\n",
       "  <thead>\n",
       "    <tr style=\"text-align: right;\">\n",
       "      <th></th>\n",
       "      <th>comment</th>\n",
       "      <th>Unnamed: 1</th>\n",
       "      <th>Unnamed: 2</th>\n",
       "    </tr>\n",
       "  </thead>\n",
       "  <tbody>\n",
       "    <tr>\n",
       "      <th>0</th>\n",
       "      <td>오히려 연습생이면 회사측에서 돈 받아야하는거 아니냐? ㅋㅋㅋ</td>\n",
       "      <td>NaN</td>\n",
       "      <td>NaN</td>\n",
       "    </tr>\n",
       "    <tr>\n",
       "      <th>1</th>\n",
       "      <td>비디디는 왜 없노 이해가 안되네</td>\n",
       "      <td>NaN</td>\n",
       "      <td>NaN</td>\n",
       "    </tr>\n",
       "    <tr>\n",
       "      <th>2</th>\n",
       "      <td>피넛이랑 덕담 켈린은 머 있노?</td>\n",
       "      <td>NaN</td>\n",
       "      <td>NaN</td>\n",
       "    </tr>\n",
       "    <tr>\n",
       "      <th>3</th>\n",
       "      <td>안변했네 안심했다</td>\n",
       "      <td>NaN</td>\n",
       "      <td>NaN</td>\n",
       "    </tr>\n",
       "    <tr>\n",
       "      <th>4</th>\n",
       "      <td>운타라 복귀하냐?</td>\n",
       "      <td>NaN</td>\n",
       "      <td>NaN</td>\n",
       "    </tr>\n",
       "  </tbody>\n",
       "</table>\n",
       "</div>"
      ],
      "text/plain": [
       "                             comment Unnamed: 1 Unnamed: 2\n",
       "0  오히려 연습생이면 회사측에서 돈 받아야하는거 아니냐? ㅋㅋㅋ        NaN        NaN\n",
       "1                  비디디는 왜 없노 이해가 안되네        NaN        NaN\n",
       "2                  피넛이랑 덕담 켈린은 머 있노?        NaN        NaN\n",
       "3                          안변했네 안심했다        NaN        NaN\n",
       "4                          운타라 복귀하냐?        NaN        NaN"
      ]
     },
     "execution_count": 4,
     "metadata": {},
     "output_type": "execute_result"
    }
   ],
   "source": [
    "data.head()"
   ]
  },
  {
   "cell_type": "code",
   "execution_count": 5,
   "id": "12497776",
   "metadata": {},
   "outputs": [
    {
     "name": "stdout",
     "output_type": "stream",
     "text": [
      "995869\n"
     ]
    }
   ],
   "source": [
    "print(len(data['comment']))"
   ]
  },
  {
   "cell_type": "code",
   "execution_count": 6,
   "id": "b534146e",
   "metadata": {},
   "outputs": [
    {
     "name": "stdout",
     "output_type": "stream",
     "text": [
      "False\n"
     ]
    }
   ],
   "source": [
    "train_data=data['comment'].dropna(how='any')\n",
    "print(train_data.isnull().values.any())"
   ]
  },
  {
   "cell_type": "code",
   "execution_count": 7,
   "id": "b8060019",
   "metadata": {},
   "outputs": [
    {
     "name": "stdout",
     "output_type": "stream",
     "text": [
      "995869\n"
     ]
    }
   ],
   "source": [
    "print(len(data['comment']))"
   ]
  },
  {
   "cell_type": "code",
   "execution_count": 8,
   "id": "a6ac0162",
   "metadata": {},
   "outputs": [
    {
     "data": {
      "text/plain": [
       "0    오히려 연습생이면 회사측에서 돈 받아야하는거 아니냐? ㅋㅋㅋ\n",
       "1                    비디디는 왜 없노 이해가 안되네\n",
       "2                    피넛이랑 덕담 켈린은 머 있노?\n",
       "3                            안변했네 안심했다\n",
       "4                            운타라 복귀하냐?\n",
       "Name: comment, dtype: object"
      ]
     },
     "execution_count": 8,
     "metadata": {},
     "output_type": "execute_result"
    }
   ],
   "source": [
    "train_data.head()"
   ]
  },
  {
   "cell_type": "code",
   "execution_count": 9,
   "id": "f3b10158",
   "metadata": {},
   "outputs": [],
   "source": [
    "train_data=train_data.str.replace(\"[^ㄱ-ㅎㅏ-ㅣ0-9가-힣]\",\"\",regex=True)"
   ]
  },
  {
   "cell_type": "code",
   "execution_count": 10,
   "id": "a7e770c0",
   "metadata": {},
   "outputs": [],
   "source": [
    "stopwords=['의','가','이','은','들','는','좀','잘','걍','과','도','를','으로','자','에','와','한','하다']"
   ]
  },
  {
   "cell_type": "code",
   "execution_count": 13,
   "id": "7a9710aa",
   "metadata": {},
   "outputs": [],
   "source": [
    "from eunjeon import Mecab\n",
    "mecab=Mecab()\n",
    "tokenized_data=train_data.apply(mecab.morphs)\n",
    "tokenized_data=tokenized_data.apply(lambda x: [item for item in x if item not in stopwords])"
   ]
  },
  {
   "cell_type": "code",
   "execution_count": 15,
   "id": "8742dbb6",
   "metadata": {
    "scrolled": true
   },
   "outputs": [
    {
     "data": {
      "text/plain": [
       "10000     [혈소판, 헌혈, 하, 고, 지정, 해서, 보내, 달, 라고, 하, 면, 끝, 아직...\n",
       "10001                           [버스, 포지션, 맞, 잖아도, 구년, 아, ㅉ]\n",
       "10002                              [정도, 면, 그, 즙, 까, 건데, ㅋㅋ]\n",
       "10003                       [쯤, 되, 면, 걍남자이새끼들문제인거맞는것같다ㄹㅇㅋㅋ]\n",
       "10004     [나, 칸나, 오너, 너, 모건, 요한, 지만, 아무튼, 이긴, 건, 나, 랑께, ...\n",
       "                                ...                        \n",
       "100001                          [ㅈ, ㄴ, 썼, 노, ㅋㅋㅋ, ㅋㅋㅋ, ㅋㅋㅋ]\n",
       "100002                             [팩, 트롤, 플, 딱, 지만, 제일, 함]\n",
       "100003    [솔직히, 월즈, 에서, 워낙, 해서, 커리어, 이름값, 까지, 치, 면, 이럴, ...\n",
       "100004                                           [즙, 갈, 평균]\n",
       "100005    [고, 맘, 이미, 실력, 딸린, 거, 마음속, 으론, 알, 고, 있, 어서, 주전...\n",
       "Name: comment, Length: 90005, dtype: object"
      ]
     },
     "execution_count": 15,
     "metadata": {},
     "output_type": "execute_result"
    }
   ],
   "source": [
    "tokenized_data[10000:100005]"
   ]
  },
  {
   "cell_type": "code",
   "execution_count": 10,
   "id": "4121fc6d",
   "metadata": {
    "scrolled": true
   },
   "outputs": [
    {
     "name": "stderr",
     "output_type": "stream",
     "text": [
      "100%|██████████| 995850/995850 [6:13:11<00:00, 44.47it/s]   \n"
     ]
    }
   ],
   "source": [
    "import konlpy\n",
    "\n",
    "okt=konlpy.tag.Okt()\n",
    "tokenized_data=[]\n",
    "for sentence in tqdm(train_data):\n",
    "    tokenized_sentence=okt.morphs(sentence,stem=True)\n",
    "    stopwords_removed_sentence=[word for word in tokenized_sentence if not word in stopwords]\n",
    "    tokenized_data.append(stopwords_removed_sentence)"
   ]
  },
  {
   "cell_type": "code",
   "execution_count": 16,
   "id": "6437ea79",
   "metadata": {},
   "outputs": [],
   "source": [
    "from gensim.models import FastText"
   ]
  },
  {
   "cell_type": "code",
   "execution_count": 17,
   "id": "0de3ae9a",
   "metadata": {},
   "outputs": [],
   "source": [
    "model=FastText(sentences=tokenized_data,vector_size=100,workers=4,sg=1,epochs=6,word_ngrams=1)"
   ]
  },
  {
   "cell_type": "code",
   "execution_count": 24,
   "id": "2bb0283a",
   "metadata": {},
   "outputs": [
    {
     "data": {
      "text/plain": [
       "[('개지랄', 0.8453194499015808),\n",
       " ('염병', 0.8254085779190063),\n",
       " ('지랄병', 0.7773680090904236),\n",
       " ('지랄같', 0.7525980472564697),\n",
       " ('옘병', 0.6993916630744934),\n",
       " ('육갑', 0.6976412534713745),\n",
       " ('발광', 0.697300136089325),\n",
       " ('자위질', 0.6893656253814697),\n",
       " ('꼴값', 0.6889820694923401),\n",
       " ('오두방정', 0.6850218772888184)]"
      ]
     },
     "execution_count": 24,
     "metadata": {},
     "output_type": "execute_result"
    }
   ],
   "source": [
    "model.wv.most_similar(\"지랄\")"
   ]
  },
  {
   "cell_type": "code",
   "execution_count": 25,
   "id": "5359086b",
   "metadata": {},
   "outputs": [],
   "source": [
    "from gensim.test.utils import get_tmpfile"
   ]
  },
  {
   "cell_type": "code",
   "execution_count": 22,
   "id": "7b054e45",
   "metadata": {},
   "outputs": [],
   "source": [
    "fname=get_tmpfile(\"fasttext_model\")"
   ]
  },
  {
   "cell_type": "code",
   "execution_count": 23,
   "id": "e08cdb30",
   "metadata": {},
   "outputs": [],
   "source": [
    "model.save(fname)"
   ]
  },
  {
   "cell_type": "code",
   "execution_count": 26,
   "id": "20e588f7",
   "metadata": {},
   "outputs": [],
   "source": [
    "model_fname='C:/Users/tpgus/fasttext_api/data/fasttext_mecab'"
   ]
  },
  {
   "cell_type": "code",
   "execution_count": 27,
   "id": "82898572",
   "metadata": {},
   "outputs": [],
   "source": [
    "model.save(model_fname)"
   ]
  },
  {
   "cell_type": "code",
   "execution_count": 1,
   "id": "73f2a24b",
   "metadata": {},
   "outputs": [
    {
     "data": {
      "text/plain": [
       "['형태소', '분리', '를', '지원', '합니다']"
      ]
     },
     "execution_count": 1,
     "metadata": {},
     "output_type": "execute_result"
    }
   ],
   "source": [
    "\n",
    "mecab.morphs(\"형태소 분리를 지원합니다\")"
   ]
  },
  {
   "cell_type": "code",
   "execution_count": null,
   "id": "ef7c36f0",
   "metadata": {},
   "outputs": [],
   "source": []
  }
 ],
 "metadata": {
  "kernelspec": {
   "display_name": "Python 3",
   "language": "python",
   "name": "python3"
  },
  "language_info": {
   "codemirror_mode": {
    "name": "ipython",
    "version": 3
   },
   "file_extension": ".py",
   "mimetype": "text/x-python",
   "name": "python",
   "nbconvert_exporter": "python",
   "pygments_lexer": "ipython3",
   "version": "3.8.8"
  }
 },
 "nbformat": 4,
 "nbformat_minor": 5
}
