{
 "cells": [
  {
   "cell_type": "code",
   "execution_count": 1,
   "id": "693686c1",
   "metadata": {},
   "outputs": [],
   "source": [
    "import pickle\n",
    "import re\n",
    "from konlpy.tag import Okt\n",
    "from tensorflow.keras.models import load_model\n",
    "from tensorflow.keras.preprocessing.text import Tokenizer\n",
    "from tensorflow.keras.preprocessing.sequence import pad_sequences"
   ]
  },
  {
   "cell_type": "code",
   "execution_count": 2,
   "id": "3948cb7a",
   "metadata": {},
   "outputs": [],
   "source": [
    "with open('C:/Users/tpgus/fasttext_api/data/mecab/tokenizer2.pickle', 'rb') as handle:\n",
    "    tokenizer = pickle.load(handle)"
   ]
  },
  {
   "cell_type": "code",
   "execution_count": 3,
   "id": "a086042a",
   "metadata": {},
   "outputs": [
    {
     "data": {
      "text/plain": [
       "<keras.preprocessing.text.Tokenizer at 0x20c935b13a0>"
      ]
     },
     "execution_count": 3,
     "metadata": {},
     "output_type": "execute_result"
    }
   ],
   "source": [
    "tokenizer"
   ]
  },
  {
   "cell_type": "code",
   "execution_count": 4,
   "id": "72240c3f",
   "metadata": {},
   "outputs": [],
   "source": [
    "loaded_model = load_model('C:/Users/tpgus/fasttext_api/data/mecab/cnn_model2')\n",
    "okt=Okt()\n",
    "max_len=30\n",
    "stopwords = ['의','가','이','은','들','는','좀','잘','걍','과','도','를','으로','자','에','와','한','하다']"
   ]
  },
  {
   "cell_type": "code",
   "execution_count": 5,
   "id": "ddd03e44",
   "metadata": {},
   "outputs": [],
   "source": [
    "def sentiment_predict(new_sentence):\n",
    "  new_sentence = re.sub(r'[^ㄱ-ㅎㅏ-ㅣ가-힣 ]','', new_sentence)\n",
    "  new_sentence = okt.morphs(new_sentence, stem=True) # 토큰화\n",
    "  new_sentence = [word for word in new_sentence if not word in stopwords] # 불용어 제거\n",
    "  encoded = tokenizer.texts_to_sequences([new_sentence]) # 정수 인코딩\n",
    "  pad_new = pad_sequences(encoded, maxlen = max_len) # 패딩\n",
    "  score = float(loaded_model.predict(pad_new)) # 예측\n",
    "  if(score > 0.5):\n",
    "    print(\"{:.2f}% 확률로 긍정입니다.\\n\".format(score * 100))\n",
    "  else:\n",
    "    print(\"{:.2f}% 확률로 부정입니다.\\n\".format((1 - score) * 100))"
   ]
  },
  {
   "cell_type": "code",
   "execution_count": 6,
   "id": "358023ee",
   "metadata": {},
   "outputs": [
    {
     "name": "stdout",
     "output_type": "stream",
     "text": [
      "1/1 [==============================] - 0s 411ms/step\n",
      "63.49% 확률로 부정입니다.\n",
      "\n"
     ]
    }
   ],
   "source": [
    "sentiment_predict('여러분 강아지의 새끼를 개새끼라고 하는 것을 아시나요?')"
   ]
  },
  {
   "cell_type": "code",
   "execution_count": 7,
   "id": "a21fdf41",
   "metadata": {},
   "outputs": [],
   "source": [
    "from gensim.models import FastText\n",
    "from gensim.test.utils import get_tmpfile\n",
    "from gensim.utils import tokenize"
   ]
  },
  {
   "cell_type": "code",
   "execution_count": 8,
   "id": "a1e6a746",
   "metadata": {},
   "outputs": [],
   "source": [
    "model_fname = 'C:\\\\Users\\\\tpgus\\\\fasttext_api\\\\data\\\\mecab\\\\fasttext_mecab'\n",
    "model = FastText.load(model_fname)"
   ]
  },
  {
   "cell_type": "code",
   "execution_count": 9,
   "id": "e457ace6",
   "metadata": {},
   "outputs": [
    {
     "data": {
      "text/plain": [
       "[('십새끼', 0.7007569670677185),\n",
       " ('개새', 0.6816959381103516),\n",
       " ('개놈', 0.6504020690917969),\n",
       " ('깨새', 0.6480876803398132),\n",
       " ('짱', 0.6287277936935425),\n",
       " ('바퀴벌레', 0.6038413643836975),\n",
       " ('호로새끼', 0.6031174659729004),\n",
       " ('슼퀴벌레', 0.6000219583511353),\n",
       " ('동포', 0.6000086665153503),\n",
       " ('미친개', 0.5992181301116943)]"
      ]
     },
     "execution_count": 9,
     "metadata": {},
     "output_type": "execute_result"
    }
   ],
   "source": [
    "model.wv.most_similar('개새끼')"
   ]
  },
  {
   "cell_type": "code",
   "execution_count": 10,
   "id": "c3cf6892",
   "metadata": {},
   "outputs": [],
   "source": [
    "from eunjeon import Mecab"
   ]
  },
  {
   "cell_type": "code",
   "execution_count": 13,
   "id": "397f3c89",
   "metadata": {},
   "outputs": [],
   "source": [
    "def change_word(s):\n",
    "    stopwords = ['의', '가', '이', '은', '들', '는', '좀', '잘', '걍',\n",
    "                 '과', '도', '를', '을', '으로', '자', '에', '와', '한', '하다', '랑']\n",
    "\n",
    "    okt = Okt()\n",
    "\n",
    "    s = re.sub(\"[^ㄱ-ㅎㅏ-ㅣ가-힣 ]\", \"\", s)\n",
    "    s = re.sub('^ +', \"\", s)\n",
    "\n",
    "    s = okt.morphs(s, stem=True)  # 토큰화\n",
    "    s = [word for word in s if not word in stopwords]  # 불용어 제거\n",
    "    return s\n"
   ]
  },
  {
   "cell_type": "code",
   "execution_count": 15,
   "id": "9f05694c",
   "metadata": {},
   "outputs": [
    {
     "data": {
      "text/plain": [
       "list"
      ]
     },
     "execution_count": 15,
     "metadata": {},
     "output_type": "execute_result"
    }
   ],
   "source": [
    "type(change_word('개새끼야 그걸 그렇게 하면 안되지'))"
   ]
  },
  {
   "cell_type": "code",
   "execution_count": null,
   "id": "c95104f9",
   "metadata": {},
   "outputs": [],
   "source": []
  }
 ],
 "metadata": {
  "kernelspec": {
   "display_name": "Python 3 (ipykernel)",
   "language": "python",
   "name": "python3"
  },
  "language_info": {
   "codemirror_mode": {
    "name": "ipython",
    "version": 3
   },
   "file_extension": ".py",
   "mimetype": "text/x-python",
   "name": "python",
   "nbconvert_exporter": "python",
   "pygments_lexer": "ipython3",
   "version": "3.9.12"
  }
 },
 "nbformat": 4,
 "nbformat_minor": 5
}
