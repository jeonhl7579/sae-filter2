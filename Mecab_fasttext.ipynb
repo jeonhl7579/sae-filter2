{
 "cells": [
  {
   "cell_type": "code",
   "execution_count": 1,
   "id": "e9ff9636",
   "metadata": {},
   "outputs": [],
   "source": [
    "import pandas as pd\n",
    "from tqdm import tqdm"
   ]
  },
  {
   "cell_type": "code",
   "execution_count": 2,
   "id": "f56cc2ea",
   "metadata": {},
   "outputs": [],
   "source": [
    "data=pd.read_excel('comment_lists1-300.xlsx')"
   ]
  },
  {
   "cell_type": "code",
   "execution_count": 3,
   "id": "c1ce0aac",
   "metadata": {},
   "outputs": [
    {
     "data": {
      "text/html": [
       "<div>\n",
       "<style scoped>\n",
       "    .dataframe tbody tr th:only-of-type {\n",
       "        vertical-align: middle;\n",
       "    }\n",
       "\n",
       "    .dataframe tbody tr th {\n",
       "        vertical-align: top;\n",
       "    }\n",
       "\n",
       "    .dataframe thead th {\n",
       "        text-align: right;\n",
       "    }\n",
       "</style>\n",
       "<table border=\"1\" class=\"dataframe\">\n",
       "  <thead>\n",
       "    <tr style=\"text-align: right;\">\n",
       "      <th></th>\n",
       "      <th>comment</th>\n",
       "      <th>Unnamed: 1</th>\n",
       "      <th>Unnamed: 2</th>\n",
       "    </tr>\n",
       "  </thead>\n",
       "  <tbody>\n",
       "    <tr>\n",
       "      <th>0</th>\n",
       "      <td>오히려 연습생이면 회사측에서 돈 받아야하는거 아니냐? ㅋㅋㅋ</td>\n",
       "      <td>NaN</td>\n",
       "      <td>NaN</td>\n",
       "    </tr>\n",
       "    <tr>\n",
       "      <th>1</th>\n",
       "      <td>비디디는 왜 없노 이해가 안되네</td>\n",
       "      <td>NaN</td>\n",
       "      <td>NaN</td>\n",
       "    </tr>\n",
       "    <tr>\n",
       "      <th>2</th>\n",
       "      <td>피넛이랑 덕담 켈린은 머 있노?</td>\n",
       "      <td>NaN</td>\n",
       "      <td>NaN</td>\n",
       "    </tr>\n",
       "    <tr>\n",
       "      <th>3</th>\n",
       "      <td>안변했네 안심했다</td>\n",
       "      <td>NaN</td>\n",
       "      <td>NaN</td>\n",
       "    </tr>\n",
       "    <tr>\n",
       "      <th>4</th>\n",
       "      <td>운타라 복귀하냐?</td>\n",
       "      <td>NaN</td>\n",
       "      <td>NaN</td>\n",
       "    </tr>\n",
       "  </tbody>\n",
       "</table>\n",
       "</div>"
      ],
      "text/plain": [
       "                             comment Unnamed: 1 Unnamed: 2\n",
       "0  오히려 연습생이면 회사측에서 돈 받아야하는거 아니냐? ㅋㅋㅋ        NaN        NaN\n",
       "1                  비디디는 왜 없노 이해가 안되네        NaN        NaN\n",
       "2                  피넛이랑 덕담 켈린은 머 있노?        NaN        NaN\n",
       "3                          안변했네 안심했다        NaN        NaN\n",
       "4                          운타라 복귀하냐?        NaN        NaN"
      ]
     },
     "execution_count": 3,
     "metadata": {},
     "output_type": "execute_result"
    }
   ],
   "source": [
    "data.head()"
   ]
  },
  {
   "cell_type": "code",
   "execution_count": 4,
   "id": "2f810779",
   "metadata": {},
   "outputs": [
    {
     "name": "stdout",
     "output_type": "stream",
     "text": [
      "False\n"
     ]
    }
   ],
   "source": [
    "train_data=data['comment'].dropna(how='any')\n",
    "print(train_data.isnull().values.any())"
   ]
  },
  {
   "cell_type": "code",
   "execution_count": 5,
   "id": "86219702",
   "metadata": {},
   "outputs": [
    {
     "data": {
      "text/plain": [
       "0    오히려 연습생이면 회사측에서 돈 받아야하는거 아니냐? ㅋㅋㅋ\n",
       "1                    비디디는 왜 없노 이해가 안되네\n",
       "2                    피넛이랑 덕담 켈린은 머 있노?\n",
       "3                            안변했네 안심했다\n",
       "4                            운타라 복귀하냐?\n",
       "Name: comment, dtype: object"
      ]
     },
     "execution_count": 5,
     "metadata": {},
     "output_type": "execute_result"
    }
   ],
   "source": [
    "train_data.head()"
   ]
  },
  {
   "cell_type": "code",
   "execution_count": 6,
   "id": "2850f415",
   "metadata": {},
   "outputs": [],
   "source": [
    "train_data=train_data.str.replace(\"[^ㄱ-ㅎㅏ-ㅣ0-9가-힣]\",\"\",regex=True)"
   ]
  },
  {
   "cell_type": "code",
   "execution_count": 7,
   "id": "3a72e3a1",
   "metadata": {},
   "outputs": [],
   "source": [
    "stopwords=['의','가','이','은','들','는','좀','잘','걍','과','도','를','으로','자','에','와','한','하다']"
   ]
  },
  {
   "cell_type": "code",
   "execution_count": 8,
   "id": "15d5ebb6",
   "metadata": {},
   "outputs": [],
   "source": [
    "from eunjeon import Mecab\n",
    "mecab=Mecab()\n",
    "tokenized_data=train_data.apply(mecab.morphs)\n",
    "tokenized_data=tokenized_data.apply(lambda x: [item for item in x if item not in stopwords])"
   ]
  },
  {
   "cell_type": "code",
   "execution_count": 9,
   "id": "c8b3aa9c",
   "metadata": {},
   "outputs": [
    {
     "data": {
      "text/plain": [
       "0    [오히려, 연습, 생, 면, 회사, 측, 에서, 돈, 받, 아야, 하, 거, 아니,...\n",
       "1                        [비, 디디, 왜, 없, 노, 이해, 안, 되, 네]\n",
       "2                            [피넛, 이랑, 덕담, 켈린, 머, 있, 노]\n",
       "3                                 [안, 변했, 네, 안심, 했, 다]\n",
       "4                                  [운, 타, 라, 복귀, 하, 냐]\n",
       "Name: comment, dtype: object"
      ]
     },
     "execution_count": 9,
     "metadata": {},
     "output_type": "execute_result"
    }
   ],
   "source": [
    "tokenized_data.head()"
   ]
  },
  {
   "cell_type": "code",
   "execution_count": 11,
   "id": "d9b368e9",
   "metadata": {},
   "outputs": [],
   "source": [
    "from gensim.models import FastText"
   ]
  },
  {
   "cell_type": "code",
   "execution_count": 12,
   "id": "439e6549",
   "metadata": {},
   "outputs": [],
   "source": [
    "model=FastText(sentences=tokenized_data,vector_size=100,workers=4,sg=1,epochs=6,word_ngrams=1)"
   ]
  },
  {
   "cell_type": "code",
   "execution_count": 13,
   "id": "e52ca4d9",
   "metadata": {},
   "outputs": [
    {
     "data": {
      "text/plain": [
       "[('개지랄', 0.8545518517494202),\n",
       " ('염병', 0.821607768535614),\n",
       " ('지랄병', 0.7699690461158752),\n",
       " ('발광', 0.7224223613739014),\n",
       " ('옘병', 0.7155989408493042),\n",
       " ('지랄같', 0.7043209075927734),\n",
       " ('오두방정', 0.6771522164344788),\n",
       " ('떠', 0.6766948103904724),\n",
       " ('엄살', 0.6750823259353638),\n",
       " ('꼴값', 0.6736377477645874)]"
      ]
     },
     "execution_count": 13,
     "metadata": {},
     "output_type": "execute_result"
    }
   ],
   "source": [
    "model.wv.most_similar(\"지랄\")"
   ]
  },
  {
   "cell_type": "code",
   "execution_count": 14,
   "id": "0c89a01e",
   "metadata": {},
   "outputs": [],
   "source": [
    "from gensim.test.utils import get_tmpfile"
   ]
  },
  {
   "cell_type": "code",
   "execution_count": 15,
   "id": "9be998db",
   "metadata": {},
   "outputs": [],
   "source": [
    "fname=get_tmpfile(\"mecab_fasttext_model\")"
   ]
  },
  {
   "cell_type": "code",
   "execution_count": 16,
   "id": "34efcf00",
   "metadata": {},
   "outputs": [],
   "source": [
    "model_fname='C:/Users/tpgus/fasttext_api/data/mecab/fasttext_mecab'"
   ]
  },
  {
   "cell_type": "code",
   "execution_count": 17,
   "id": "a81eef72",
   "metadata": {},
   "outputs": [],
   "source": [
    "model.save(model_fname)"
   ]
  },
  {
   "cell_type": "code",
   "execution_count": 46,
   "id": "200dcd46",
   "metadata": {},
   "outputs": [
    {
     "data": {
      "text/plain": [
       "[('끼운', 0.6869801878929138),\n",
       " ('개새끼', 0.6816959977149963),\n",
       " ('좌아', 0.680713415145874),\n",
       " ('ㅄ들아', 0.6553499698638916),\n",
       " ('맥게', 0.6510476469993591),\n",
       " ('워웍', 0.6476830840110779),\n",
       " ('깨새', 0.6415084600448608),\n",
       " ('하람', 0.640760600566864),\n",
       " ('충시', 0.6365273594856262),\n",
       " ('신좌', 0.6325651407241821)]"
      ]
     },
     "execution_count": 46,
     "metadata": {},
     "output_type": "execute_result"
    }
   ],
   "source": [
    "model.wv.most_similar('개새')"
   ]
  },
  {
   "cell_type": "code",
   "execution_count": 42,
   "id": "aecde579",
   "metadata": {},
   "outputs": [
    {
     "name": "stdout",
     "output_type": "stream",
     "text": [
      "['시발']\n"
     ]
    },
    {
     "data": {
      "text/plain": [
       "['ㅅ', 'ㅂ']"
      ]
     },
     "execution_count": 42,
     "metadata": {},
     "output_type": "execute_result"
    }
   ],
   "source": [
    "print(mecab.morphs('시발'))\n",
    "mecab.nouns('ㅅㅂ')"
   ]
  },
  {
   "cell_type": "code",
   "execution_count": 33,
   "id": "c7865bbb",
   "metadata": {},
   "outputs": [
    {
     "data": {
      "text/plain": [
       "['놈']"
      ]
     },
     "execution_count": 33,
     "metadata": {},
     "output_type": "execute_result"
    }
   ],
   "source": [
    "mecab.nouns('@ㅐ미없는놈')"
   ]
  },
  {
   "cell_type": "code",
   "execution_count": null,
   "id": "11243d27",
   "metadata": {},
   "outputs": [],
   "source": []
  }
 ],
 "metadata": {
  "kernelspec": {
   "display_name": "Python 3.9.12 ('base')",
   "language": "python",
   "name": "python3"
  },
  "language_info": {
   "codemirror_mode": {
    "name": "ipython",
    "version": 3
   },
   "file_extension": ".py",
   "mimetype": "text/x-python",
   "name": "python",
   "nbconvert_exporter": "python",
   "pygments_lexer": "ipython3",
   "version": "3.9.12"
  },
  "vscode": {
   "interpreter": {
    "hash": "ad2bdc8ecc057115af97d19610ffacc2b4e99fae6737bb82f5d7fb13d2f2c186"
   }
  }
 },
 "nbformat": 4,
 "nbformat_minor": 5
}
